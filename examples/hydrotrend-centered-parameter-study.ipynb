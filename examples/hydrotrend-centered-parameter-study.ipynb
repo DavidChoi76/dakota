{
 "cells": [
  {
   "cell_type": "markdown",
   "metadata": {},
   "source": [
    "<img src=\"http://csdms.colorado.edu/mediawiki/images/CSDMS_high_res_weblogo.jpg\">"
   ]
  },
  {
   "cell_type": "markdown",
   "metadata": {},
   "source": [
    "# Centered Parameter Study with HydroTrend"
   ]
  },
  {
   "cell_type": "markdown",
   "metadata": {},
   "source": [
    "[HydroTrend](https://csdms.colorado.edu/wiki/Model:HydroTrend) is a numerical model that creates synthetic river discharge and sediment load time series as a function of climate trends and basin morphology.\n",
    "\n",
    "In this example, we'll perform a [centered parameter study](https://dakota.sandia.gov//sites/default/files/docs/6.4/html-ref/method-centered_parameter_study.html),\n",
    "evaluating how changing two HydroTrend input parameters:\n",
    "\n",
    "* `starting_mean_annual_temperature` and\n",
    "* `total_annual_precipitation`\n",
    "\n",
    "affects two output parameters\n",
    "\n",
    "* median long-term suspended sediment load at the river mouth and\n",
    "* mean discharge at the river mouth\n",
    "\n",
    "over a one-year run."
   ]
  },
  {
   "cell_type": "markdown",
   "metadata": {},
   "source": [
    "Before we start, make sure that you've installed Dakota, HydroTrend, and this package on your computer, using the instructions in the [README](https://github.com/csdms/dakota/blob/master/README.md) file."
   ]
  },
  {
   "cell_type": "markdown",
   "metadata": {},
   "source": [
    "Start by importing the Dakota class."
   ]
  },
  {
   "cell_type": "code",
   "execution_count": null,
   "metadata": {
    "collapsed": true
   },
   "outputs": [],
   "source": [
    "from dakotathon import Dakota"
   ]
  },
  {
   "cell_type": "markdown",
   "metadata": {},
   "source": [
    "Create a Dakota instance to perform a centered parameter study with HydroTrend."
   ]
  },
  {
   "cell_type": "code",
   "execution_count": null,
   "metadata": {
    "collapsed": false
   },
   "outputs": [],
   "source": [
    "d = Dakota(method='centered_parameter_study', plugin='hydrotrend')"
   ]
  },
  {
   "cell_type": "markdown",
   "metadata": {},
   "source": [
    "Define the HydroTrend input variables to be used in the parameter study, as well as the initial point in parameter space, the step size, and the range of the variables."
   ]
  },
  {
   "cell_type": "code",
   "execution_count": null,
   "metadata": {
    "collapsed": true
   },
   "outputs": [],
   "source": [
    "d.variables.descriptors = ['starting_mean_annual_temperature', 'total_annual_precipitation']\n",
    "d.variables.initial_point = [15.0, 2.0]\n",
    "d.method.steps_per_variable = [2, 5]\n",
    "d.method.step_vector = [2.5, 0.2]"
   ]
  },
  {
   "cell_type": "markdown",
   "metadata": {},
   "source": [
    "Define the HydroTrend outputs to be used in the parameter study, as well as the statistics to be calculated from them."
   ]
  },
  {
   "cell_type": "code",
   "execution_count": null,
   "metadata": {
    "collapsed": true
   },
   "outputs": [],
   "source": [
    "d.responses.response_descriptors = ['Qs_median', 'Q_mean']\n",
    "d.responses.response_files = ['HYDROASCII.QS', 'HYDROASCII.Q']\n",
    "d.responses.response_statistics = ['median', 'mean']"
   ]
  },
  {
   "cell_type": "markdown",
   "metadata": {},
   "source": [
    "HydroTrend requires a set of files to run.\n",
    "They're included in the **data** directory of this example.\n",
    "They can also be obtained directly from the HydroTrend [GitHub repository](https://github.com/mcflugen/hydrotrend/tree/add-bmi-metadata).\n",
    "Set paths to these files with the following statements."
   ]
  },
  {
   "cell_type": "code",
   "execution_count": null,
   "metadata": {
    "collapsed": false
   },
   "outputs": [],
   "source": [
    "import os\n",
    "\n",
    "data_dir = os.path.join(os.getcwd(), 'data')\n",
    "template_file = os.path.join(data_dir, 'hydrotrend.in.tmpl')\n",
    "parameters_file = os.path.join(data_dir, 'parameters.yaml')\n",
    "hypsometry_file = os.path.join(data_dir, 'HYDRO0.HYPS')"
   ]
  },
  {
   "cell_type": "markdown",
   "metadata": {},
   "source": [
    "The *template file* provides the configuration file for HydroTrend, but with all parameter values replaced by variables in the form `{parameter_name}`. The *parameters file* provides descriptions, ranges, and default values for all of the parameters represented in the template file. The *hypsometry file* describes the change in elevation along the river's course from source to sea."
   ]
  },
  {
   "cell_type": "markdown",
   "metadata": {},
   "source": [
    "From the template and parameters files,\n",
    "we can create an input file that HydroTrend can run.\n",
    "Included in the CSDMS Dakota package is a routine that replaces the variables in the template file with default values from the parameters file.\n",
    "Import this routine and use it to create a HydroTrend input file."
   ]
  },
  {
   "cell_type": "code",
   "execution_count": null,
   "metadata": {
    "collapsed": false
   },
   "outputs": [],
   "source": [
    "from dakotathon.plugins.base import write_dflt_file\n",
    "\n",
    "default_input_file = write_dflt_file(template_file, parameters_file, run_duration=365)\n",
    "print default_input_file"
   ]
  },
  {
   "cell_type": "markdown",
   "metadata": {},
   "source": [
    "Next, we must replace the default values for the variables for `starting_mean_annual_temperature` and `total_annual_precipitation` with variable names for Dakota to substitute into. The CSDMS Dakota package also includes a routine to do this. Import this routine and use it to create a Dakota template file."
   ]
  },
  {
   "cell_type": "code",
   "execution_count": null,
   "metadata": {
    "collapsed": false
   },
   "outputs": [],
   "source": [
    "from dakotathon.plugins.base import write_dtmpl_file\n",
    "\n",
    "dakota_template_file = write_dtmpl_file(template_file, default_input_file, d.variables.descriptors)\n",
    "print dakota_template_file"
   ]
  },
  {
   "cell_type": "markdown",
   "metadata": {},
   "source": [
    "Associate the Dakota template file and the hypsometry file with the Dakota instance."
   ]
  },
  {
   "cell_type": "code",
   "execution_count": null,
   "metadata": {
    "collapsed": false
   },
   "outputs": [],
   "source": [
    "d.template_file = dakota_template_file\n",
    "d.auxiliary_files = hypsometry_file"
   ]
  },
  {
   "cell_type": "markdown",
   "metadata": {},
   "source": [
    "Call the setup method to create files needed by Dakota, then run the experiment."
   ]
  },
  {
   "cell_type": "code",
   "execution_count": null,
   "metadata": {
    "collapsed": false
   },
   "outputs": [],
   "source": [
    "d.setup()\n",
    "d.run()"
   ]
  },
  {
   "cell_type": "markdown",
   "metadata": {},
   "source": [
    "Check the output; in particular, the **dakota.dat** file."
   ]
  },
  {
   "cell_type": "code",
   "execution_count": null,
   "metadata": {
    "collapsed": false
   },
   "outputs": [],
   "source": [
    "%cat dakota.dat"
   ]
  },
  {
   "cell_type": "markdown",
   "metadata": {},
   "source": [
    "I've included my output for comparison."
   ]
  },
  {
   "cell_type": "markdown",
   "metadata": {},
   "source": [
    "```\n",
    "%eval_id interface starting_mean_annual_temperature total_annual_precipitation      Qs_median         Q_mean \n",
    "       1     CSDMS             15              2          4.907    101.3142499 \n",
    "       2     CSDMS             10              2          2.435    101.2442425 \n",
    "       3     CSDMS           12.5              2          3.524    101.3139131 \n",
    "       4     CSDMS           17.5              2          6.608    101.3142499 \n",
    "       5     CSDMS             20              2           8.67    101.3142499 \n",
    "       6     CSDMS             15              1          3.783    49.13904014 \n",
    "       7     CSDMS             15            1.2          4.061    59.54595737 \n",
    "       8     CSDMS             15            1.4          4.263    69.96313812 \n",
    "       9     CSDMS             15            1.6          4.518    80.40633878 \n",
    "      10     CSDMS             15            1.8          4.567    90.85803505 \n",
    "      11     CSDMS             15            2.2           5.13    111.7797497 \n",
    "      12     CSDMS             15            2.4          5.324    122.2484547 \n",
    "      13     CSDMS             15            2.6          5.474    132.7260839 \n",
    "      14     CSDMS             15            2.8          5.626     143.206995 \n",
    "      15     CSDMS             15              3          5.812       153.6976\n",
    "```"
   ]
  }
 ],
 "metadata": {
  "kernelspec": {
   "display_name": "Python 2",
   "language": "python",
   "name": "python2"
  },
  "language_info": {
   "codemirror_mode": {
    "name": "ipython",
    "version": 2
   },
   "file_extension": ".py",
   "mimetype": "text/x-python",
   "name": "python",
   "nbconvert_exporter": "python",
   "pygments_lexer": "ipython2",
   "version": "2.7.12"
  }
 },
 "nbformat": 4,
 "nbformat_minor": 0
}
