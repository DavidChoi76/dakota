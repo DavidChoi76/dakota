{
 "cells": [
  {
   "cell_type": "markdown",
   "metadata": {},
   "source": [
    "<img src=\"http://csdms.colorado.edu/mediawiki/images/CSDMS_high_res_weblogo.jpg\">"
   ]
  },
  {
   "cell_type": "markdown",
   "metadata": {},
   "source": [
    "# Centered Parameter Study with HydroTrend"
   ]
  },
  {
   "cell_type": "markdown",
   "metadata": {},
   "source": [
    "[HydroTrend](https://csdms.colorado.edu/wiki/Model:HydroTrend) is a numerical model that creates synthetic river discharge and sediment load time series as a function of climate trends and basin morphology.\n",
    "\n",
    "In this example, we'll perform a [centered parameter study](https://dakota.sandia.gov//sites/default/files/docs/6.4/html-ref/method-centered_parameter_study.html),\n",
    "evaluating how changing two HydroTrend input parameters:\n",
    "\n",
    "* `starting_mean_annual_temperature` and\n",
    "* `total_annual_precipitation`\n",
    "\n",
    "affects two output parameters\n",
    "\n",
    "* median long-term suspended sediment load at the river mouth and\n",
    "* mean discharge at the river mouth\n",
    "\n",
    "over a one-year run."
   ]
  },
  {
   "cell_type": "markdown",
   "metadata": {},
   "source": [
    "Before we start, make sure that you've installed Dakota, HydroTrend, and this package on your computer, using the instructions in the [README](https://github.com/csdms/dakota/blob/master/README.md) file."
   ]
  },
  {
   "cell_type": "markdown",
   "metadata": {},
   "source": [
    "Start by importing the Dakota class."
   ]
  },
  {
   "cell_type": "code",
   "execution_count": null,
   "metadata": {
    "collapsed": true
   },
   "outputs": [],
   "source": [
    "from csdms.dakota import Dakota"
   ]
  },
  {
   "cell_type": "markdown",
   "metadata": {},
   "source": [
    "Create a Dakota instance to perform a centered parameter study with HydroTrend."
   ]
  },
  {
   "cell_type": "code",
   "execution_count": null,
   "metadata": {
    "collapsed": false
   },
   "outputs": [],
   "source": [
    "d = Dakota(method='centered_parameter_study', component='hydrotrend')"
   ]
  },
  {
   "cell_type": "markdown",
   "metadata": {},
   "source": [
    "Define the HydroTrend input variables to be used in the parameter study, as well as the initial point in parameter space, the step size, and the range of the variables."
   ]
  },
  {
   "cell_type": "code",
   "execution_count": null,
   "metadata": {
    "collapsed": true
   },
   "outputs": [],
   "source": [
    "d.method.variables = ['starting_mean_annual_temperature', 'total_annual_precipitation']\n",
    "d.method.initial_point = [15.0, 2.0]\n",
    "d.method.steps_per_variable = [2, 5]\n",
    "d.method.step_vector = [2.5, 0.2]"
   ]
  },
  {
   "cell_type": "markdown",
   "metadata": {},
   "source": [
    "Define the HydroTrend outputs to be used in the parameter study, as well as the statistics to be calculated from them."
   ]
  },
  {
   "cell_type": "code",
   "execution_count": null,
   "metadata": {
    "collapsed": true
   },
   "outputs": [],
   "source": [
    "d.method.responses = ['Qs_median', 'Q_mean']\n",
    "d.method.response_files = ['HYDROASCII.QS', 'HYDROASCII.Q']\n",
    "d.method.response_statistics = ['median', 'mean']"
   ]
  },
  {
   "cell_type": "markdown",
   "metadata": {},
   "source": [
    "HydroTrend requires a set of files to run.\n",
    "They're included in the **data** directory of the repository containing this example.\n",
    "They can also be obtained directly from the HydroTrend [GitHub repository](https://github.com/mcflugen/hydrotrend/tree/add-bmi-metadata).\n",
    "Set paths to these files with the following statements."
   ]
  },
  {
   "cell_type": "code",
   "execution_count": null,
   "metadata": {
    "collapsed": false
   },
   "outputs": [],
   "source": [
    "import os\n",
    "data_dir = os.path.join(os.getcwd(), 'data')\n",
    "\n",
    "template_file = os.path.join(data_dir, 'hydrotrend.in.tmpl')\n",
    "parameters_file = os.path.join(data_dir, 'parameters.yaml')\n",
    "hypsometry_file = os.path.join(data_dir, 'HYDRO0.HYPS')"
   ]
  },
  {
   "cell_type": "markdown",
   "metadata": {},
   "source": [
    "The *template file* provides the configuration file for HydroTrend, but with all parameter values replaced by variables in the form `{parameter_name}`. The *parameters file* provides descriptions, ranges, and default values for all of the parameters represented in the template file. The *hypsometry file* describes the change in elevation along the river's course from source to sea."
   ]
  },
  {
   "cell_type": "markdown",
   "metadata": {},
   "source": [
    "From the template and parameters files,\n",
    "we can create an input file that HydroTrend can run.\n",
    "Included in the CSDMS Dakota package is a routine that replaces the variables in the template file with default values from the parameters file.\n",
    "Import this routine and use it to create a HydroTrend input file."
   ]
  },
  {
   "cell_type": "code",
   "execution_count": null,
   "metadata": {
    "collapsed": false
   },
   "outputs": [],
   "source": [
    "from csdms.dakota.plugins.base import write_dflt_file\n",
    "\n",
    "default_input_file = write_dflt_file(template_file, parameters_file)\n",
    "print default_input_file"
   ]
  },
  {
   "cell_type": "markdown",
   "metadata": {},
   "source": [
    "Next, we must replace the default values for the variables for `starting_mean_annual_temperature` and `total_annual_precipitation` with variable names for Dakota to substitute into. The CSDMS Dakota package also includes a routine to do this. Import this routine and use it to create a Dakota template file."
   ]
  },
  {
   "cell_type": "code",
   "execution_count": null,
   "metadata": {
    "collapsed": false
   },
   "outputs": [],
   "source": [
    "from csdms.dakota.plugins.base import write_dtmpl_file\n",
    "\n",
    "dakota_template_file = write_dtmpl_file(template_file, default_input_file, d.method.variables)\n",
    "print dakota_template_file"
   ]
  },
  {
   "cell_type": "markdown",
   "metadata": {},
   "source": [
    "Associate the Dakota template file and the hypsometry file with the Dakota instance."
   ]
  },
  {
   "cell_type": "code",
   "execution_count": null,
   "metadata": {
    "collapsed": true
   },
   "outputs": [],
   "source": [
    "d.method.template_file = dakota_template_file\n",
    "d.method.input_files = hypsometry_file"
   ]
  },
  {
   "cell_type": "markdown",
   "metadata": {},
   "source": [
    "Call the setup method to create files needed by Dakota, then run the experiment."
   ]
  },
  {
   "cell_type": "code",
   "execution_count": null,
   "metadata": {
    "collapsed": false
   },
   "outputs": [],
   "source": [
    "d.setup()\n",
    "d.run()"
   ]
  },
  {
   "cell_type": "markdown",
   "metadata": {},
   "source": [
    "Check the output; in particular, the **dakota.dat** file."
   ]
  },
  {
   "cell_type": "code",
   "execution_count": null,
   "metadata": {
    "collapsed": false
   },
   "outputs": [],
   "source": [
    "%cat dakota.dat"
   ]
  }
 ],
 "metadata": {
  "kernelspec": {
   "display_name": "Python 2",
   "language": "python",
   "name": "python2"
  },
  "language_info": {
   "codemirror_mode": {
    "name": "ipython",
    "version": 2
   },
   "file_extension": ".py",
   "mimetype": "text/x-python",
   "name": "python",
   "nbconvert_exporter": "python",
   "pygments_lexer": "ipython2",
   "version": "2.7.11"
  }
 },
 "nbformat": 4,
 "nbformat_minor": 0
}
