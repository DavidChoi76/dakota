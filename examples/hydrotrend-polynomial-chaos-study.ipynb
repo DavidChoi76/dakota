{
 "cells": [
  {
   "cell_type": "markdown",
   "metadata": {},
   "source": [
    "<img src=\"http://csdms.colorado.edu/mediawiki/images/CSDMS_high_res_weblogo.jpg\">"
   ]
  },
  {
   "cell_type": "markdown",
   "metadata": {},
   "source": [
    "# HydroTrend Study with the Polynomial Chaos Method"
   ]
  },
  {
   "cell_type": "markdown",
   "metadata": {},
   "source": [
    "[HydroTrend](https://csdms.colorado.edu/wiki/Model:HydroTrend) is a numerical model that creates synthetic river discharge and sediment load time series as a function of climate trends and basin morphology.\n",
    "\n",
    "In this example, we'll perform an experiment on HydroTrend using the [polynomial chaos](https://dakota.sandia.gov//sites/default/files/docs/6.4/html-ref/method-polynomial_chaos.html) method\n",
    "to evaluate how changing two input parameters:\n",
    "\n",
    "* `starting_mean_annual_temperature` (_T_) and\n",
    "* `total_annual_precipitation` (_P_)\n",
    "\n",
    "affects the median values of one output parameter,\n",
    "long-term suspended sediment load at the river mouth (_Qs_),\n",
    "over a 10-year run."
   ]
  },
  {
   "cell_type": "markdown",
   "metadata": {},
   "source": [
    "Before we start, make sure that you've installed Dakota, HydroTrend, and this package on your computer, using the instructions in the [README](https://github.com/csdms/dakota/blob/master/README.md) file."
   ]
  },
  {
   "cell_type": "markdown",
   "metadata": {},
   "source": [
    "Start by importing the Dakota class."
   ]
  },
  {
   "cell_type": "code",
   "execution_count": null,
   "metadata": {
    "collapsed": true
   },
   "outputs": [],
   "source": [
    "from dakotathon import Dakota"
   ]
  },
  {
   "cell_type": "markdown",
   "metadata": {},
   "source": [
    "Create a Dakota instance to perform a study of HydroTrend using the polynomial chaos method and input parameters characterized by normal distributions."
   ]
  },
  {
   "cell_type": "code",
   "execution_count": null,
   "metadata": {
    "collapsed": false
   },
   "outputs": [],
   "source": [
    "d = Dakota(method='polynomial_chaos', variables='normal_uncertain', plugin='hydrotrend')"
   ]
  },
  {
   "cell_type": "markdown",
   "metadata": {},
   "source": [
    "Define the HydroTrend input variables (_T_ and _P_) to be used in the study.\n",
    "We assume they're random variables with normal distributions,\n",
    "and \n",
    "we can obtain their default mean and standard deviation values\n",
    "from the HydroTrend parameters file (discussed below)."
   ]
  },
  {
   "cell_type": "code",
   "execution_count": null,
   "metadata": {
    "collapsed": true
   },
   "outputs": [],
   "source": [
    "d.variables.descriptors = ['starting_mean_annual_temperature', 'total_annual_precipitation']  # T and P\n",
    "d.variables.means = [14.26, 1.59]\n",
    "d.variables.std_deviations = [0.55, 0.30]"
   ]
  },
  {
   "cell_type": "markdown",
   "metadata": {},
   "source": [
    "Define the HydroTrend outputs to be used in the study, as well as the statistics to be calculated from them."
   ]
  },
  {
   "cell_type": "code",
   "execution_count": null,
   "metadata": {
    "collapsed": false
   },
   "outputs": [],
   "source": [
    "d.responses.response_descriptors = 'Qs_median'\n",
    "d.responses.response_files = 'HYDROASCII.QS'\n",
    "d.responses.response_statistics = 'median'"
   ]
  },
  {
   "cell_type": "markdown",
   "metadata": {},
   "source": [
    "In the polynomial chaos method,\n",
    "a polynomial expansion is computed for the response function\n",
    "from four Gauss points in both _T_ and _P_,\n",
    "for a total of 16 integration points. \n",
    "From this expansion, 1000 samples are selected using Latin hypercube sampling to perform the analysis.\n",
    "The method calculates the PDF and the CDF of _Qs_ using the bins specified by the `response_levels` keyword.\n",
    "Variance-based decomposition is turned on to provide additional sensitivity statistics,\n",
    "such as Sobol' indices."
   ]
  },
  {
   "cell_type": "code",
   "execution_count": null,
   "metadata": {
    "collapsed": false
   },
   "outputs": [],
   "source": [
    "d.method.quadrature_order = 4\n",
    "d.method.sample_type = 'lhs'\n",
    "d.method.samples = 1000\n",
    "d.method.seed = 17\n",
    "d.method.response_levels = [2.5, 3.0, 3.5, 4.0, 4.5, 5.0, 5.5]\n",
    "d.method.variance_based_decomp = True"
   ]
  },
  {
   "cell_type": "markdown",
   "metadata": {},
   "source": [
    "HydroTrend requires a set of files to run.\n",
    "They're included in the **data** directory of the repository containing this example.\n",
    "They can also be obtained directly from the HydroTrend [GitHub repository](https://github.com/mcflugen/hydrotrend/tree/add-bmi-metadata).\n",
    "Set paths to these files with the following statements."
   ]
  },
  {
   "cell_type": "code",
   "execution_count": null,
   "metadata": {
    "collapsed": false
   },
   "outputs": [],
   "source": [
    "import os\n",
    "\n",
    "data_dir = os.path.join(os.getcwd(), 'data')\n",
    "template_file = os.path.join(data_dir, 'hydrotrend.in.tmpl')\n",
    "parameters_file = os.path.join(data_dir, 'parameters.yaml')\n",
    "hypsometry_file = os.path.join(data_dir, 'HYDRO0.HYPS')"
   ]
  },
  {
   "cell_type": "markdown",
   "metadata": {},
   "source": [
    "The *template file* provides the configuration file for HydroTrend, but with all parameter values replaced by variables in the form `{parameter_name}`. The *parameters file* provides descriptions, ranges, and default values for all of the parameters represented in the template file. The *hypsometry file* describes the change in elevation along the river's course from source to sea."
   ]
  },
  {
   "cell_type": "markdown",
   "metadata": {},
   "source": [
    "From the template and parameters files,\n",
    "we can create an input file that HydroTrend can run.\n",
    "Included in the CSDMS Dakota package is a routine that replaces the variables in the template file with default values from the parameters file.\n",
    "Import this routine and use it to create a HydroTrend input file."
   ]
  },
  {
   "cell_type": "code",
   "execution_count": null,
   "metadata": {
    "collapsed": false
   },
   "outputs": [],
   "source": [
    "from dakotathon.plugins.base import write_dflt_file\n",
    "\n",
    "default_input_file = write_dflt_file(template_file, parameters_file, run_duration=10*365)\n",
    "print default_input_file"
   ]
  },
  {
   "cell_type": "markdown",
   "metadata": {},
   "source": [
    "Next, we must replace the default values for the variables for `starting_mean_annual_temperature` and `total_annual_precipitation` with variable names for Dakota to substitute into. The CSDMS Dakota package also includes a routine to do this. Import this routine and use it to create a Dakota template file."
   ]
  },
  {
   "cell_type": "code",
   "execution_count": null,
   "metadata": {
    "collapsed": false
   },
   "outputs": [],
   "source": [
    "from dakotathon.plugins.base import write_dtmpl_file\n",
    "\n",
    "dakota_template_file = write_dtmpl_file(template_file, default_input_file, d.variables.descriptors)\n",
    "print dakota_template_file"
   ]
  },
  {
   "cell_type": "markdown",
   "metadata": {},
   "source": [
    "Associate the Dakota template file and the hypsometry file with the Dakota instance."
   ]
  },
  {
   "cell_type": "code",
   "execution_count": null,
   "metadata": {
    "collapsed": true
   },
   "outputs": [],
   "source": [
    "d.template_file = dakota_template_file\n",
    "d.auxiliary_files = hypsometry_file"
   ]
  },
  {
   "cell_type": "markdown",
   "metadata": {},
   "source": [
    "Call the setup method to create files needed by Dakota, then run the experiment."
   ]
  },
  {
   "cell_type": "code",
   "execution_count": null,
   "metadata": {
    "collapsed": false
   },
   "outputs": [],
   "source": [
    "d.setup()\n",
    "d.run()"
   ]
  },
  {
   "cell_type": "markdown",
   "metadata": {},
   "source": [
    "Check the output. First, the **dakota.dat** file. It shows the quadrature points, and the median values of _Qs_ calculated at those points."
   ]
  },
  {
   "cell_type": "code",
   "execution_count": null,
   "metadata": {
    "collapsed": false
   },
   "outputs": [],
   "source": [
    "%cat dakota.dat"
   ]
  },
  {
   "cell_type": "markdown",
   "metadata": {},
   "source": [
    "Next, the **dakota.out** file.\n",
    "At the end of this file,\n",
    "statistics calculated by Dakota are reported."
   ]
  },
  {
   "cell_type": "code",
   "execution_count": null,
   "metadata": {
    "collapsed": false
   },
   "outputs": [],
   "source": [
    "%cat dakota.out"
   ]
  },
  {
   "cell_type": "markdown",
   "metadata": {},
   "source": [
    "The coefficient of variation, $c_v = \\sigma / \\mu$,\n",
    "can be used as a measure of the uncertainty in the inputs, _T_ and _P_.\n",
    "For _T_, $c_v = 1.59/14.26 = 3.9\\%$,\n",
    "while for _P_, $c_v = 0.30/1.59 = 18.9\\%$.\n",
    "These uncertainties are propagated through the model by Dakota,\n",
    "which calculates the first four moments of the response, _Qs_.\n",
    "From these moments, we can also calculate a coefficient of variation for _Qs_,\n",
    "$c_v = 0.346/4.34 = 8.0\\%$.\n",
    "\n",
    "Sobol' indices are calculated, which provide a measure of sensitivity of _Qs_ to the model inputs.\n",
    "For this study,\n",
    "75 percent of the variance in _Qs_ is caused by variance in _T_,\n",
    "while only about 25 percent is caused by _P_,\n",
    "and with marginal interactions between the two."
   ]
  }
 ],
 "metadata": {
  "kernelspec": {
   "display_name": "Python 2",
   "language": "python",
   "name": "python2"
  },
  "language_info": {
   "codemirror_mode": {
    "name": "ipython",
    "version": 2
   },
   "file_extension": ".py",
   "mimetype": "text/x-python",
   "name": "python",
   "nbconvert_exporter": "python",
   "pygments_lexer": "ipython2",
   "version": "2.7.12"
  }
 },
 "nbformat": 4,
 "nbformat_minor": 0
}
